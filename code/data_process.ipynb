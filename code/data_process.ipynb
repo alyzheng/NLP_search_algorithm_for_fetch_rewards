{
 "cells": [
  {
   "cell_type": "code",
   "execution_count": 23,
   "id": "eb367ec3",
   "metadata": {},
   "outputs": [],
   "source": [
    "import pandas as pd\n",
    "import numpy as np"
   ]
  },
  {
   "cell_type": "code",
   "execution_count": 29,
   "id": "aacb5b20",
   "metadata": {},
   "outputs": [],
   "source": [
    "brand = pd.read_csv(\"brand_category.csv\")\n",
    "cat = pd.read_csv(\"categories.csv\")\n",
    "offer = pd.read_csv(\"offer_retailer.csv\")"
   ]
  },
  {
   "cell_type": "markdown",
   "id": "e91cbacd",
   "metadata": {},
   "source": [
    "### Data Preprocessing"
   ]
  },
  {
   "cell_type": "code",
   "execution_count": 30,
   "id": "721d46cc",
   "metadata": {},
   "outputs": [
    {
     "data": {
      "text/html": [
       "<div>\n",
       "<style scoped>\n",
       "    .dataframe tbody tr th:only-of-type {\n",
       "        vertical-align: middle;\n",
       "    }\n",
       "\n",
       "    .dataframe tbody tr th {\n",
       "        vertical-align: top;\n",
       "    }\n",
       "\n",
       "    .dataframe thead th {\n",
       "        text-align: right;\n",
       "    }\n",
       "</style>\n",
       "<table border=\"1\" class=\"dataframe\">\n",
       "  <thead>\n",
       "    <tr style=\"text-align: right;\">\n",
       "      <th></th>\n",
       "      <th>BRAND</th>\n",
       "      <th>BRAND_BELONGS_TO_CATEGORY</th>\n",
       "      <th>RECEIPTS</th>\n",
       "    </tr>\n",
       "  </thead>\n",
       "  <tbody>\n",
       "    <tr>\n",
       "      <th>0</th>\n",
       "      <td>CASEYS GEN STORE</td>\n",
       "      <td>Tobacco Products</td>\n",
       "      <td>2950931</td>\n",
       "    </tr>\n",
       "    <tr>\n",
       "      <th>1</th>\n",
       "      <td>CASEYS GEN STORE</td>\n",
       "      <td>Mature</td>\n",
       "      <td>2859240</td>\n",
       "    </tr>\n",
       "    <tr>\n",
       "      <th>2</th>\n",
       "      <td>EQUATE</td>\n",
       "      <td>Hair Removal</td>\n",
       "      <td>893268</td>\n",
       "    </tr>\n",
       "    <tr>\n",
       "      <th>3</th>\n",
       "      <td>PALMOLIVE</td>\n",
       "      <td>Bath &amp; Body</td>\n",
       "      <td>542562</td>\n",
       "    </tr>\n",
       "    <tr>\n",
       "      <th>4</th>\n",
       "      <td>DAWN</td>\n",
       "      <td>Bath &amp; Body</td>\n",
       "      <td>301844</td>\n",
       "    </tr>\n",
       "  </tbody>\n",
       "</table>\n",
       "</div>"
      ],
      "text/plain": [
       "              BRAND BRAND_BELONGS_TO_CATEGORY  RECEIPTS\n",
       "0  CASEYS GEN STORE          Tobacco Products   2950931\n",
       "1  CASEYS GEN STORE                    Mature   2859240\n",
       "2            EQUATE              Hair Removal    893268\n",
       "3         PALMOLIVE               Bath & Body    542562\n",
       "4              DAWN               Bath & Body    301844"
      ]
     },
     "execution_count": 30,
     "metadata": {},
     "output_type": "execute_result"
    }
   ],
   "source": [
    "brand.head()"
   ]
  },
  {
   "cell_type": "code",
   "execution_count": 31,
   "id": "164a0e22",
   "metadata": {},
   "outputs": [
    {
     "data": {
      "text/html": [
       "<div>\n",
       "<style scoped>\n",
       "    .dataframe tbody tr th:only-of-type {\n",
       "        vertical-align: middle;\n",
       "    }\n",
       "\n",
       "    .dataframe tbody tr th {\n",
       "        vertical-align: top;\n",
       "    }\n",
       "\n",
       "    .dataframe thead th {\n",
       "        text-align: right;\n",
       "    }\n",
       "</style>\n",
       "<table border=\"1\" class=\"dataframe\">\n",
       "  <thead>\n",
       "    <tr style=\"text-align: right;\">\n",
       "      <th></th>\n",
       "      <th>CATEGORY_ID</th>\n",
       "      <th>PRODUCT_CATEGORY</th>\n",
       "      <th>IS_CHILD_CATEGORY_TO</th>\n",
       "    </tr>\n",
       "  </thead>\n",
       "  <tbody>\n",
       "    <tr>\n",
       "      <th>0</th>\n",
       "      <td>1f7d2fa7-a1d7-4969-aaf4-1244f232c175</td>\n",
       "      <td>Red Pasta Sauce</td>\n",
       "      <td>Pasta Sauce</td>\n",
       "    </tr>\n",
       "    <tr>\n",
       "      <th>1</th>\n",
       "      <td>3e48a9b3-1ab2-4f2d-867d-4a30828afeab</td>\n",
       "      <td>Alfredo &amp; White Pasta Sauce</td>\n",
       "      <td>Pasta Sauce</td>\n",
       "    </tr>\n",
       "    <tr>\n",
       "      <th>2</th>\n",
       "      <td>09f3decc-aa93-460d-936c-0ddf06b055a3</td>\n",
       "      <td>Cooking &amp; Baking</td>\n",
       "      <td>Pantry</td>\n",
       "    </tr>\n",
       "    <tr>\n",
       "      <th>3</th>\n",
       "      <td>12a89b18-4c01-4048-94b2-0705e0a45f6b</td>\n",
       "      <td>Packaged Seafood</td>\n",
       "      <td>Pantry</td>\n",
       "    </tr>\n",
       "    <tr>\n",
       "      <th>4</th>\n",
       "      <td>2caa015a-ca32-4456-a086-621446238783</td>\n",
       "      <td>Feminine Hygeine</td>\n",
       "      <td>Health &amp; Wellness</td>\n",
       "    </tr>\n",
       "  </tbody>\n",
       "</table>\n",
       "</div>"
      ],
      "text/plain": [
       "                            CATEGORY_ID             PRODUCT_CATEGORY  \\\n",
       "0  1f7d2fa7-a1d7-4969-aaf4-1244f232c175              Red Pasta Sauce   \n",
       "1  3e48a9b3-1ab2-4f2d-867d-4a30828afeab  Alfredo & White Pasta Sauce   \n",
       "2  09f3decc-aa93-460d-936c-0ddf06b055a3             Cooking & Baking   \n",
       "3  12a89b18-4c01-4048-94b2-0705e0a45f6b             Packaged Seafood   \n",
       "4  2caa015a-ca32-4456-a086-621446238783             Feminine Hygeine   \n",
       "\n",
       "  IS_CHILD_CATEGORY_TO  \n",
       "0          Pasta Sauce  \n",
       "1          Pasta Sauce  \n",
       "2               Pantry  \n",
       "3               Pantry  \n",
       "4    Health & Wellness  "
      ]
     },
     "execution_count": 31,
     "metadata": {},
     "output_type": "execute_result"
    }
   ],
   "source": [
    "cat.head()"
   ]
  },
  {
   "cell_type": "code",
   "execution_count": 32,
   "id": "3e6c2482",
   "metadata": {},
   "outputs": [
    {
     "data": {
      "text/html": [
       "<div>\n",
       "<style scoped>\n",
       "    .dataframe tbody tr th:only-of-type {\n",
       "        vertical-align: middle;\n",
       "    }\n",
       "\n",
       "    .dataframe tbody tr th {\n",
       "        vertical-align: top;\n",
       "    }\n",
       "\n",
       "    .dataframe thead th {\n",
       "        text-align: right;\n",
       "    }\n",
       "</style>\n",
       "<table border=\"1\" class=\"dataframe\">\n",
       "  <thead>\n",
       "    <tr style=\"text-align: right;\">\n",
       "      <th></th>\n",
       "      <th>OFFER</th>\n",
       "      <th>RETAILER</th>\n",
       "      <th>BRAND</th>\n",
       "    </tr>\n",
       "  </thead>\n",
       "  <tbody>\n",
       "    <tr>\n",
       "      <th>0</th>\n",
       "      <td>Spend $50 on a Full-Priced new Club Membership</td>\n",
       "      <td>SAMS CLUB</td>\n",
       "      <td>SAMS CLUB</td>\n",
       "    </tr>\n",
       "    <tr>\n",
       "      <th>1</th>\n",
       "      <td>Beyond Meat® Plant-Based products, spend $25</td>\n",
       "      <td>NaN</td>\n",
       "      <td>BEYOND MEAT</td>\n",
       "    </tr>\n",
       "    <tr>\n",
       "      <th>2</th>\n",
       "      <td>Good Humor Viennetta Frozen Vanilla Cake</td>\n",
       "      <td>NaN</td>\n",
       "      <td>GOOD HUMOR</td>\n",
       "    </tr>\n",
       "    <tr>\n",
       "      <th>3</th>\n",
       "      <td>Butterball, select varieties, spend $10 at Dillons Food Store</td>\n",
       "      <td>DILLONS FOOD STORE</td>\n",
       "      <td>BUTTERBALL</td>\n",
       "    </tr>\n",
       "    <tr>\n",
       "      <th>4</th>\n",
       "      <td>GATORADE® Fast Twitch®, 12-ounce 12 pack, at Amazon Storefront*</td>\n",
       "      <td>AMAZON</td>\n",
       "      <td>GATORADE</td>\n",
       "    </tr>\n",
       "  </tbody>\n",
       "</table>\n",
       "</div>"
      ],
      "text/plain": [
       "                                                             OFFER  \\\n",
       "0                   Spend $50 on a Full-Priced new Club Membership   \n",
       "1                     Beyond Meat® Plant-Based products, spend $25   \n",
       "2                         Good Humor Viennetta Frozen Vanilla Cake   \n",
       "3    Butterball, select varieties, spend $10 at Dillons Food Store   \n",
       "4  GATORADE® Fast Twitch®, 12-ounce 12 pack, at Amazon Storefront*   \n",
       "\n",
       "             RETAILER        BRAND  \n",
       "0           SAMS CLUB    SAMS CLUB  \n",
       "1                 NaN  BEYOND MEAT  \n",
       "2                 NaN   GOOD HUMOR  \n",
       "3  DILLONS FOOD STORE   BUTTERBALL  \n",
       "4              AMAZON     GATORADE  "
      ]
     },
     "execution_count": 32,
     "metadata": {},
     "output_type": "execute_result"
    }
   ],
   "source": [
    "offer.head()"
   ]
  },
  {
   "cell_type": "markdown",
   "id": "af90eba4",
   "metadata": {},
   "source": [
    "#### rename dataset"
   ]
  },
  {
   "cell_type": "code",
   "execution_count": 33,
   "id": "1c89258e",
   "metadata": {},
   "outputs": [],
   "source": [
    "brand = brand.rename(columns = {'BRAND_BELONGS_TO_CATEGORY':'child_category','BRAND':'brand'})\n",
    "cat = cat.rename(columns = {'PRODUCT_CATEGORY':'child_category','IS_CHILD_CATEGORY_TO':'parent category'})\n",
    "offer = offer.rename(columns = {'OFFER':'offer','RETAILER':'retailer','BRAND':'brand'})"
   ]
  },
  {
   "cell_type": "markdown",
   "id": "d83eff22",
   "metadata": {},
   "source": [
    "#### merge three dataset"
   ]
  },
  {
   "cell_type": "code",
   "execution_count": 34,
   "id": "0169379f",
   "metadata": {},
   "outputs": [],
   "source": [
    "data = pd.merge(left=brand, right=cat,how=\"right\",on=\"child_category\")"
   ]
  },
  {
   "cell_type": "code",
   "execution_count": 35,
   "id": "e58b4f9c",
   "metadata": {},
   "outputs": [],
   "source": [
    "data = pd.merge(left=data, right=offer,how=\"left\",on=\"brand\")"
   ]
  },
  {
   "cell_type": "code",
   "execution_count": 36,
   "id": "dbe2aa17",
   "metadata": {},
   "outputs": [],
   "source": [
    "data = data.drop(['RECEIPTS', 'CATEGORY_ID'], axis=1)"
   ]
  },
  {
   "cell_type": "markdown",
   "id": "8564d1ce",
   "metadata": {},
   "source": [
    "#### deal with nan value"
   ]
  },
  {
   "cell_type": "code",
   "execution_count": 37,
   "id": "4baa06c7",
   "metadata": {},
   "outputs": [
    {
     "data": {
      "text/plain": [
       "brand                  1\n",
       "child_category         0\n",
       "parent category        0\n",
       "offer               9600\n",
       "retailer           10023\n",
       "dtype: int64"
      ]
     },
     "execution_count": 37,
     "metadata": {},
     "output_type": "execute_result"
    }
   ],
   "source": [
    "data.isnull().sum()"
   ]
  },
  {
   "cell_type": "code",
   "execution_count": 25,
   "id": "cbb8d1c4",
   "metadata": {},
   "outputs": [],
   "source": [
    "data = data.fillna('')"
   ]
  },
  {
   "cell_type": "markdown",
   "id": "32bc4ec7",
   "metadata": {},
   "source": [
    "#### convert all text data to lowercase"
   ]
  },
  {
   "cell_type": "code",
   "execution_count": 26,
   "id": "ad87e9a9",
   "metadata": {},
   "outputs": [],
   "source": [
    "data = data.apply(lambda x: x.astype(str).str.lower())"
   ]
  },
  {
   "cell_type": "code",
   "execution_count": 12,
   "id": "600bb57d",
   "metadata": {},
   "outputs": [
    {
     "data": {
      "text/html": [
       "<div>\n",
       "<style scoped>\n",
       "    .dataframe tbody tr th:only-of-type {\n",
       "        vertical-align: middle;\n",
       "    }\n",
       "\n",
       "    .dataframe tbody tr th {\n",
       "        vertical-align: top;\n",
       "    }\n",
       "\n",
       "    .dataframe thead th {\n",
       "        text-align: right;\n",
       "    }\n",
       "</style>\n",
       "<table border=\"1\" class=\"dataframe\">\n",
       "  <thead>\n",
       "    <tr style=\"text-align: right;\">\n",
       "      <th></th>\n",
       "      <th>brand</th>\n",
       "      <th>child_category</th>\n",
       "      <th>parent category</th>\n",
       "      <th>offer</th>\n",
       "      <th>retailer</th>\n",
       "    </tr>\n",
       "  </thead>\n",
       "  <tbody>\n",
       "    <tr>\n",
       "      <th>0</th>\n",
       "      <td>prego</td>\n",
       "      <td>red pasta sauce</td>\n",
       "      <td>pasta sauce</td>\n",
       "      <td></td>\n",
       "      <td></td>\n",
       "    </tr>\n",
       "    <tr>\n",
       "      <th>1</th>\n",
       "      <td>ragu</td>\n",
       "      <td>red pasta sauce</td>\n",
       "      <td>pasta sauce</td>\n",
       "      <td></td>\n",
       "      <td></td>\n",
       "    </tr>\n",
       "    <tr>\n",
       "      <th>2</th>\n",
       "      <td>classico</td>\n",
       "      <td>red pasta sauce</td>\n",
       "      <td>pasta sauce</td>\n",
       "      <td></td>\n",
       "      <td></td>\n",
       "    </tr>\n",
       "    <tr>\n",
       "      <th>3</th>\n",
       "      <td>heb</td>\n",
       "      <td>red pasta sauce</td>\n",
       "      <td>pasta sauce</td>\n",
       "      <td></td>\n",
       "      <td></td>\n",
       "    </tr>\n",
       "    <tr>\n",
       "      <th>4</th>\n",
       "      <td>barilla</td>\n",
       "      <td>red pasta sauce</td>\n",
       "      <td>pasta sauce</td>\n",
       "      <td>barilla® pesto sauce</td>\n",
       "      <td></td>\n",
       "    </tr>\n",
       "    <tr>\n",
       "      <th>...</th>\n",
       "      <td>...</td>\n",
       "      <td>...</td>\n",
       "      <td>...</td>\n",
       "      <td>...</td>\n",
       "      <td>...</td>\n",
       "    </tr>\n",
       "    <tr>\n",
       "      <th>10371</th>\n",
       "      <td>altoids</td>\n",
       "      <td>gum</td>\n",
       "      <td>candy</td>\n",
       "      <td></td>\n",
       "      <td></td>\n",
       "    </tr>\n",
       "    <tr>\n",
       "      <th>10372</th>\n",
       "      <td>freedent</td>\n",
       "      <td>gum</td>\n",
       "      <td>candy</td>\n",
       "      <td></td>\n",
       "      <td></td>\n",
       "    </tr>\n",
       "    <tr>\n",
       "      <th>10373</th>\n",
       "      <td>starburst</td>\n",
       "      <td>gum</td>\n",
       "      <td>candy</td>\n",
       "      <td>starburst®, select sizes, buy 1</td>\n",
       "      <td></td>\n",
       "    </tr>\n",
       "    <tr>\n",
       "      <th>10374</th>\n",
       "      <td>starburst</td>\n",
       "      <td>gum</td>\n",
       "      <td>candy</td>\n",
       "      <td>starburst®, select varieties</td>\n",
       "      <td></td>\n",
       "    </tr>\n",
       "    <tr>\n",
       "      <th>10375</th>\n",
       "      <td>mentos</td>\n",
       "      <td>gum</td>\n",
       "      <td>candy</td>\n",
       "      <td></td>\n",
       "      <td></td>\n",
       "    </tr>\n",
       "  </tbody>\n",
       "</table>\n",
       "<p>10376 rows × 5 columns</p>\n",
       "</div>"
      ],
      "text/plain": [
       "           brand   child_category parent category  \\\n",
       "0          prego  red pasta sauce     pasta sauce   \n",
       "1           ragu  red pasta sauce     pasta sauce   \n",
       "2       classico  red pasta sauce     pasta sauce   \n",
       "3            heb  red pasta sauce     pasta sauce   \n",
       "4        barilla  red pasta sauce     pasta sauce   \n",
       "...          ...              ...             ...   \n",
       "10371    altoids              gum           candy   \n",
       "10372   freedent              gum           candy   \n",
       "10373  starburst              gum           candy   \n",
       "10374  starburst              gum           candy   \n",
       "10375     mentos              gum           candy   \n",
       "\n",
       "                                 offer retailer  \n",
       "0                                                \n",
       "1                                                \n",
       "2                                                \n",
       "3                                                \n",
       "4                 barilla® pesto sauce           \n",
       "...                                ...      ...  \n",
       "10371                                            \n",
       "10372                                            \n",
       "10373  starburst®, select sizes, buy 1           \n",
       "10374     starburst®, select varieties           \n",
       "10375                                            \n",
       "\n",
       "[10376 rows x 5 columns]"
      ]
     },
     "execution_count": 12,
     "metadata": {},
     "output_type": "execute_result"
    }
   ],
   "source": [
    "data"
   ]
  },
  {
   "cell_type": "markdown",
   "id": "03cc9428",
   "metadata": {},
   "source": [
    "#### save and output clean data"
   ]
  },
  {
   "cell_type": "code",
   "execution_count": 27,
   "id": "e325392e",
   "metadata": {},
   "outputs": [],
   "source": [
    "output_file = 'output.xlsx'\n",
    "data.to_excel(output_file, index=False) "
   ]
  }
 ],
 "metadata": {
  "kernelspec": {
   "display_name": "Python 3 (ipykernel)",
   "language": "python",
   "name": "python3"
  },
  "language_info": {
   "codemirror_mode": {
    "name": "ipython",
    "version": 3
   },
   "file_extension": ".py",
   "mimetype": "text/x-python",
   "name": "python",
   "nbconvert_exporter": "python",
   "pygments_lexer": "ipython3",
   "version": "3.9.12"
  }
 },
 "nbformat": 4,
 "nbformat_minor": 5
}
