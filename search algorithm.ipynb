{
 "cells": [
  {
   "cell_type": "code",
   "execution_count": 20,
   "id": "935327b0",
   "metadata": {},
   "outputs": [],
   "source": [
    "import nltk\n",
    "import pandas as pd\n",
    "from nltk.util import ngrams\n",
    "from nltk.metrics import jaccard_distance\n",
    "from collections import Counter\n",
    "from sentence_transformers import SentenceTransformer, CrossEncoder, util"
   ]
  },
  {
   "cell_type": "code",
   "execution_count": 7,
   "id": "5498570a",
   "metadata": {},
   "outputs": [],
   "source": [
    "data = pd.read_excel(\"output.xlsx\")"
   ]
  },
  {
   "cell_type": "code",
   "execution_count": 12,
   "id": "1d7a06bb",
   "metadata": {},
   "outputs": [
    {
     "data": {
      "text/html": [
       "<div>\n",
       "<style scoped>\n",
       "    .dataframe tbody tr th:only-of-type {\n",
       "        vertical-align: middle;\n",
       "    }\n",
       "\n",
       "    .dataframe tbody tr th {\n",
       "        vertical-align: top;\n",
       "    }\n",
       "\n",
       "    .dataframe thead th {\n",
       "        text-align: right;\n",
       "    }\n",
       "</style>\n",
       "<table border=\"1\" class=\"dataframe\">\n",
       "  <thead>\n",
       "    <tr style=\"text-align: right;\">\n",
       "      <th></th>\n",
       "      <th>brand</th>\n",
       "      <th>child_category</th>\n",
       "      <th>parent category</th>\n",
       "      <th>offer</th>\n",
       "      <th>retailer</th>\n",
       "    </tr>\n",
       "  </thead>\n",
       "  <tbody>\n",
       "    <tr>\n",
       "      <th>0</th>\n",
       "      <td>prego</td>\n",
       "      <td>red pasta sauce</td>\n",
       "      <td>pasta sauce</td>\n",
       "      <td></td>\n",
       "      <td></td>\n",
       "    </tr>\n",
       "    <tr>\n",
       "      <th>1</th>\n",
       "      <td>ragu</td>\n",
       "      <td>red pasta sauce</td>\n",
       "      <td>pasta sauce</td>\n",
       "      <td></td>\n",
       "      <td></td>\n",
       "    </tr>\n",
       "    <tr>\n",
       "      <th>2</th>\n",
       "      <td>classico</td>\n",
       "      <td>red pasta sauce</td>\n",
       "      <td>pasta sauce</td>\n",
       "      <td></td>\n",
       "      <td></td>\n",
       "    </tr>\n",
       "    <tr>\n",
       "      <th>3</th>\n",
       "      <td>heb</td>\n",
       "      <td>red pasta sauce</td>\n",
       "      <td>pasta sauce</td>\n",
       "      <td></td>\n",
       "      <td></td>\n",
       "    </tr>\n",
       "    <tr>\n",
       "      <th>4</th>\n",
       "      <td>barilla</td>\n",
       "      <td>red pasta sauce</td>\n",
       "      <td>pasta sauce</td>\n",
       "      <td>barilla® pesto sauce</td>\n",
       "      <td></td>\n",
       "    </tr>\n",
       "  </tbody>\n",
       "</table>\n",
       "</div>"
      ],
      "text/plain": [
       "      brand   child_category parent category                 offer retailer\n",
       "0     prego  red pasta sauce     pasta sauce                               \n",
       "1      ragu  red pasta sauce     pasta sauce                               \n",
       "2  classico  red pasta sauce     pasta sauce                               \n",
       "3       heb  red pasta sauce     pasta sauce                               \n",
       "4   barilla  red pasta sauce     pasta sauce  barilla® pesto sauce         "
      ]
     },
     "execution_count": 12,
     "metadata": {},
     "output_type": "execute_result"
    }
   ],
   "source": [
    "data.head()"
   ]
  },
  {
   "cell_type": "markdown",
   "id": "cbcff43e",
   "metadata": {},
   "source": [
    "### Create String for Encoding"
   ]
  },
  {
   "cell_type": "markdown",
   "id": "904e87d9",
   "metadata": {},
   "source": [
    "Sentence Transformer is sensitive to sentence instead of single word, so I aggregated variables into sentences within each row, improving overall performance"
   ]
  },
  {
   "cell_type": "code",
   "execution_count": 13,
   "id": "396df545",
   "metadata": {},
   "outputs": [],
   "source": [
    "offer_embedding_string = []\n",
    "for index, row in data.iterrows():\n",
    "    sentence =  'for the brand: ' + row['brand'] + ', the retailer is ' + row['retailer'] + ', the product category is ' + row['child_category'] + ', which belongs to parent category ' + row['parent category'] + ', now the offer is: ' + row['offer']\n",
    "    offer_embedding_string.append(sentence)"
   ]
  },
  {
   "cell_type": "code",
   "execution_count": 75,
   "id": "92352fce",
   "metadata": {},
   "outputs": [
    {
     "data": {
      "text/plain": [
       "['for the brand: prego, the retailer is , the product category is red pasta sauce, which belongs to parent category pasta sauce, now the offer is: ',\n",
       " 'for the brand: ragu, the retailer is , the product category is red pasta sauce, which belongs to parent category pasta sauce, now the offer is: ',\n",
       " 'for the brand: classico, the retailer is , the product category is red pasta sauce, which belongs to parent category pasta sauce, now the offer is: ',\n",
       " 'for the brand: heb, the retailer is , the product category is red pasta sauce, which belongs to parent category pasta sauce, now the offer is: ',\n",
       " 'for the brand: barilla, the retailer is , the product category is red pasta sauce, which belongs to parent category pasta sauce, now the offer is: barilla® pesto sauce']"
      ]
     },
     "execution_count": 75,
     "metadata": {},
     "output_type": "execute_result"
    }
   ],
   "source": [
    "offer_embedding_string[0:5]"
   ]
  },
  {
   "cell_type": "markdown",
   "id": "78f8186a",
   "metadata": {},
   "source": [
    "### Encoding via Sentence Transformer"
   ]
  },
  {
   "cell_type": "code",
   "execution_count": 21,
   "id": "186a61d5",
   "metadata": {},
   "outputs": [],
   "source": [
    "bi_encoder = SentenceTransformer('multi-qa-MiniLM-L6-cos-v1')\n",
    "bi_encoder.max_seq_length = 256\n",
    "top_k = 32"
   ]
  },
  {
   "cell_type": "code",
   "execution_count": 23,
   "id": "a2a3d369",
   "metadata": {},
   "outputs": [
    {
     "data": {
      "application/vnd.jupyter.widget-view+json": {
       "model_id": "cc09f178fcf04b59a11179acc2320abc",
       "version_major": 2,
       "version_minor": 0
      },
      "text/plain": [
       "Batches:   0%|          | 0/325 [00:00<?, ?it/s]"
      ]
     },
     "metadata": {},
     "output_type": "display_data"
    }
   ],
   "source": [
    "offer_embeddings = bi_encoder.encode(offer_embedding_string, convert_to_tensor=True, show_progress_bar=True)"
   ]
  },
  {
   "cell_type": "code",
   "execution_count": 24,
   "id": "8666fd26",
   "metadata": {},
   "outputs": [
    {
     "data": {
      "text/plain": [
       "torch.Size([10376, 384])"
      ]
     },
     "execution_count": 24,
     "metadata": {},
     "output_type": "execute_result"
    }
   ],
   "source": [
    "offer_embeddings.shape"
   ]
  },
  {
   "cell_type": "markdown",
   "id": "641ce808",
   "metadata": {},
   "source": [
    "### Create String for Viewing"
   ]
  },
  {
   "cell_type": "markdown",
   "id": "66dcecde",
   "metadata": {},
   "source": [
    "To enhance user readability, I designed a more straightforward, user-friendly output string"
   ]
  },
  {
   "cell_type": "code",
   "execution_count": 17,
   "id": "7f7608a0",
   "metadata": {},
   "outputs": [],
   "source": [
    "offer_user_string = []\n",
    "for index, row in data.iterrows():\n",
    "    sentence =  'brand: ' + row['brand'] + ' | retailer: ' + row['retailer'] + ' | category: ' + row['child_category'] + ' | parent category: ' + row['parent category'] + ' | offer: ' + row['offer']\n",
    "    offer_user_string.append(sentence)"
   ]
  },
  {
   "cell_type": "code",
   "execution_count": 76,
   "id": "152fd593",
   "metadata": {},
   "outputs": [
    {
     "data": {
      "text/plain": [
       "['brand: prego | retailer:  | category: red pasta sauce | parent category: pasta sauce | offer: ',\n",
       " 'brand: ragu | retailer:  | category: red pasta sauce | parent category: pasta sauce | offer: ',\n",
       " 'brand: classico | retailer:  | category: red pasta sauce | parent category: pasta sauce | offer: ',\n",
       " 'brand: heb | retailer:  | category: red pasta sauce | parent category: pasta sauce | offer: ',\n",
       " 'brand: barilla | retailer:  | category: red pasta sauce | parent category: pasta sauce | offer: barilla® pesto sauce']"
      ]
     },
     "execution_count": 76,
     "metadata": {},
     "output_type": "execute_result"
    }
   ],
   "source": [
    "offer_user_string[0:5]"
   ]
  },
  {
   "cell_type": "markdown",
   "id": "064b8895",
   "metadata": {},
   "source": [
    "Mapped `offer_embedding_string` to `offer_user_string`, so that the algorithm could convert embedding strings into user-friendly output"
   ]
  },
  {
   "cell_type": "code",
   "execution_count": 25,
   "id": "49be65c8",
   "metadata": {},
   "outputs": [],
   "source": [
    "mapping = {}\n",
    "for i in range(len(offer_embedding_string)):\n",
    "    key = offer_embedding_string[i]\n",
    "    value = offer_user_string[i]\n",
    "    mapping[key] = value"
   ]
  },
  {
   "cell_type": "markdown",
   "id": "2e73c675",
   "metadata": {},
   "source": [
    "### Baseline Algorithm: Cross Encoder Scoring Mechanism"
   ]
  },
  {
   "cell_type": "markdown",
   "id": "5dc3fc39",
   "metadata": {},
   "source": [
    "1. Function refer to sentence transformer repo:\n",
    "https://github.com/UKPLab/sentence-transformers/blob/master/examples/applications/retrieve_rerank/retrieve_rerank_simple_wikipedia.ipynb\n",
    "\n",
    "2. The main idea is to use bi-encoder to encode data, and use cross-encoder to get score and rank the results"
   ]
  },
  {
   "cell_type": "code",
   "execution_count": 66,
   "id": "188a7b57",
   "metadata": {},
   "outputs": [],
   "source": [
    "cross_encoder = CrossEncoder('cross-encoder/ms-marco-MiniLM-L-6-v2')"
   ]
  },
  {
   "cell_type": "code",
   "execution_count": 53,
   "id": "aa8b0c77",
   "metadata": {},
   "outputs": [],
   "source": [
    "def baseline_search(query):\n",
    "\n",
    "    question_embedding = bi_encoder.encode(query, convert_to_tensor=True)\n",
    "    hits = util.semantic_search(question_embedding, offer_embeddings, top_k=top_k)\n",
    "    hits = hits[0]  # Get the hits for the first query\n",
    "    cross_inp = [[query, offer_embedding_string[hit['corpus_id']]] for hit in hits]\n",
    "    cross_scores = cross_encoder.predict(cross_inp)\n",
    "\n",
    "    # Sort results by the cross-encoder scores\n",
    "    for idx in range(len(cross_scores)):\n",
    "        hits[idx]['cross-score'] = cross_scores[idx]\n",
    "\n",
    "    hits = sorted(hits, key=lambda x: x['cross-score'], reverse=True)\n",
    "\n",
    "    res = []\n",
    "    for hit in hits[0:3]:\n",
    "        embed_str = offer_embedding_string[hit[\"corpus_id\"]]\n",
    "        user_str = mapping[embed_str]\n",
    "        res.append((hit['cross-score'], user_str))\n",
    "\n",
    "\n",
    "    return res"
   ]
  },
  {
   "cell_type": "markdown",
   "id": "33ccb819",
   "metadata": {},
   "source": [
    "#### challenges"
   ]
  },
  {
   "cell_type": "markdown",
   "id": "cdaaa726",
   "metadata": {},
   "source": [
    "The current scoring mechanism presents two major challenges:\n",
    "\n",
    "1. **\"No-offer Problem\"**: Results without offers are prioritized in the top rank, while results with offers may not appear prominently. This can lead to users missing important offer information.\n",
    "\n",
    "2. **\"Typo Problem\"**: The algorithm lacks flexibility in handling typos. For example, if a user types \"Targt,\" the algorithm cannot correctly identify the retailer \"target\" and provide relevant results."
   ]
  },
  {
   "cell_type": "markdown",
   "id": "fabf933c",
   "metadata": {},
   "source": [
    "#### examples"
   ]
  },
  {
   "cell_type": "markdown",
   "id": "6e42d484",
   "metadata": {},
   "source": [
    "Example illustrating \"No-offer Problem\": \n",
    "Both the first and second results do not contain any offers"
   ]
  },
  {
   "cell_type": "code",
   "execution_count": 54,
   "id": "c56a69ce",
   "metadata": {},
   "outputs": [
    {
     "data": {
      "text/plain": [
       "[(4.451646,\n",
       "  'brand: target | retailer:  | category: deodorant & antiperspirant | parent category: health & wellness | offer: '),\n",
       " (4.116417,\n",
       "  'brand: target | retailer:  | category: wine | parent category: alcohol | offer: '),\n",
       " (3.2561677,\n",
       "  'brand: back to the roots | retailer: target | category: packaged meals & sides | parent category: pantry | offer: back to the roots raised bed gardening kit with soil, seeds and plant food, at target')]"
      ]
     },
     "execution_count": 54,
     "metadata": {},
     "output_type": "execute_result"
    }
   ],
   "source": [
    "baseline_search('Target')"
   ]
  },
  {
   "cell_type": "markdown",
   "id": "092a3cad",
   "metadata": {},
   "source": [
    "Example illustrating \"Typo Problem\": Suppose the user intends to search for 'target' offers but types 'targt,' the results fails to display the 'target' offers"
   ]
  },
  {
   "cell_type": "code",
   "execution_count": 55,
   "id": "15c1195d",
   "metadata": {},
   "outputs": [
    {
     "data": {
      "text/plain": [
       "[(-5.43099,\n",
       "  'brand: tarot | retailer:  | category: wine | parent category: alcohol | offer: '),\n",
       " (-5.8334913,\n",
       "  'brand: tarima | retailer:  | category: wine | parent category: alcohol | offer: '),\n",
       " (-6.839417,\n",
       "  'brand: earth rider blackbecrush tart wheat ale | retailer:  | category: beer | parent category: alcohol | offer: ')]"
      ]
     },
     "execution_count": 55,
     "metadata": {},
     "output_type": "execute_result"
    }
   ],
   "source": [
    "baseline_search('Targt')"
   ]
  },
  {
   "cell_type": "markdown",
   "id": "b20176d3",
   "metadata": {},
   "source": [
    "### Improved Algorithm: Ngram Fuzzy Search + Cross Encoder + Rerank Scoring Mechanism"
   ]
  },
  {
   "cell_type": "markdown",
   "id": "94c2b964",
   "metadata": {},
   "source": [
    "To address the two issues mentioned earlier, I have made improvements as follows:\n",
    "\n",
    "1. **\"Typo Problem\"**: Introduced Ngram fuzzy search to improve typo identification, ensuring better accuracy in recognizing user queries with typo errors\n",
    "\n",
    "\n",
    "2. **\"No-offer Problem\"**: Add a rank function and designed specific reranking strategy:\n",
    "    - Select the top 5 search results based on relevance\n",
    "    - Filter all results to identify the top 5 results that include offers\n",
    "    - Combine the top 5 search results and top 5 filtered results,  rerank them based on their scores to generate the final output"
   ]
  },
  {
   "cell_type": "code",
   "execution_count": 44,
   "id": "8ca5a99c",
   "metadata": {},
   "outputs": [],
   "source": [
    "def deduplicate(input_list):\n",
    "    return sorted(set(input_list))"
   ]
  },
  {
   "cell_type": "code",
   "execution_count": 45,
   "id": "862801a1",
   "metadata": {},
   "outputs": [],
   "source": [
    "def get_obj_string_list(name):\n",
    "    obj_string = []\n",
    "    for index, row in data.iterrows():\n",
    "        sentence =  row[name] \n",
    "        if not pd.isna(sentence) and sentence != \"\":\n",
    "            obj_string.append(sentence.lower())\n",
    "    return deduplicate(obj_string)"
   ]
  },
  {
   "cell_type": "code",
   "execution_count": 46,
   "id": "a6763e61",
   "metadata": {},
   "outputs": [],
   "source": [
    "def get_ngrams(name, n):\n",
    "    characters = [c for c in name.lower()]\n",
    "    return list(ngrams(characters, n))"
   ]
  },
  {
   "cell_type": "code",
   "execution_count": 67,
   "id": "50ab7964",
   "metadata": {},
   "outputs": [],
   "source": [
    "def ngram_fuzzy_search(search_text):\n",
    "    retail_string = get_obj_string_list(\"retailer\")\n",
    "    brand_string = get_obj_string_list(\"brand\")\n",
    "    cat_string = deduplicate(get_obj_string_list(\"child_category\") + get_obj_string_list(\"parent category\"))\n",
    "    entry_string = deduplicate(cat_string + brand_string + retail_string)\n",
    "    \n",
    "    input_text = search_text\n",
    "    n = 2\n",
    "    input_ngrams = get_ngrams(input_text, n)\n",
    "    similarities = []\n",
    "    \n",
    "    for entry in entry_string:\n",
    "        entry_ngrams = get_ngrams(entry, n)\n",
    "        similarity = 1 - jaccard_distance(set(input_ngrams), set(entry_ngrams))\n",
    "        similarities.append((similarity, entry))\n",
    "        \n",
    "    threshold = 0.3\n",
    "    k = 3\n",
    "    filtered_similarities = [(similarity, entry) for similarity, entry in similarities if similarity >= threshold]\n",
    "    sorted_similarities = sorted(filtered_similarities, key=lambda x: x[0], reverse=True)\n",
    "    queries = sorted_similarities[:k]\n",
    "#     input_text = \"targt\"\n",
    "    return queries"
   ]
  },
  {
   "cell_type": "code",
   "execution_count": 68,
   "id": "48cd6642",
   "metadata": {},
   "outputs": [],
   "source": [
    "def cross_encode(encode_name):\n",
    "    queries = ngram_fuzzy_search(encode_name)\n",
    "    res = []\n",
    "\n",
    "    for query_sim, query in queries:\n",
    "        question_embedding = bi_encoder.encode(query, convert_to_tensor=True)\n",
    "        hits = util.semantic_search(question_embedding, offer_embeddings, top_k=top_k)\n",
    "        hits = hits[0]  # Get the hits for the first query\n",
    "        cross_inp = [[query, offer_embedding_string[hit['corpus_id']]] for hit in hits]\n",
    "        cross_scores = cross_encoder.predict(cross_inp)\n",
    "\n",
    "        # Sort results by the cross-encoder scores\n",
    "        for idx in range(len(cross_scores)):\n",
    "            hits[idx]['cross-score'] = cross_scores[idx]\n",
    "        \n",
    "        for hit in hits:\n",
    "            embed_str = offer_embedding_string[hit[\"corpus_id\"]]\n",
    "            user_str = mapping[embed_str]\n",
    "            have_offer =  not user_str.strip().endswith(\"offer:\")\n",
    "            res.append((hit['cross-score'], user_str, have_offer, query_sim, query))\n",
    "            \n",
    "    res = sorted(res, key=lambda x:x[0], reverse=True)\n",
    "    return res"
   ]
  },
  {
   "cell_type": "code",
   "execution_count": 69,
   "id": "9fe15ad3",
   "metadata": {},
   "outputs": [],
   "source": [
    "def my_search(search_name):\n",
    "    DEBUG=False\n",
    "    offer_list = cross_encode(search_name)\n",
    "    res = []\n",
    "    updated_offer_list = []\n",
    "    for offer in offer_list:\n",
    "        cross_score, user_str, have_offer, query_score, query = offer\n",
    "        combined_score = cross_score + 10*query_score\n",
    "        updated_offer_list.append((combined_score, have_offer, user_str, query))        \n",
    "    \n",
    "    updated_offer_list = sorted(updated_offer_list, key=lambda x: x[0], reverse=True)\n",
    "    if DEBUG:\n",
    "        print(\"===============VIS================\")\n",
    "        for offer in updated_offer_list[:20]:\n",
    "            print(\"score:\", offer[0], \"have_offer:\", offer[1], \"user_str:\", offer[2])\n",
    "            print(\"=====\")\n",
    "    \n",
    "    with_offer = [offer for offer in updated_offer_list if offer[1]]\n",
    "    with_offer_sorted = sorted(with_offer,key=lambda x: x[0], reverse=True)\n",
    "    for offer in with_offer_sorted[0:5]:\n",
    "        res.append((offer[0],offer[2]))\n",
    "    \n",
    "    for offer in updated_offer_list[0:5]:\n",
    "        if (offer[0],offer[2]) in res:\n",
    "            continue\n",
    "        res.append((offer[0], offer[2]))\n",
    "                \n",
    "    return list(res)"
   ]
  },
  {
   "cell_type": "markdown",
   "id": "86bd0830",
   "metadata": {},
   "source": [
    "#### examples"
   ]
  },
  {
   "cell_type": "markdown",
   "id": "a1d17d08",
   "metadata": {},
   "source": [
    "Example addressing \"No-offer Problem\": records with offers now appear prominently at the top of the search results"
   ]
  },
  {
   "cell_type": "code",
   "execution_count": 70,
   "id": "5e4c4ba0",
   "metadata": {},
   "outputs": [
    {
     "data": {
      "text/plain": [
       "[(13.256167650222778,\n",
       "  'brand: back to the roots | retailer: target | category: packaged meals & sides | parent category: pantry | offer: back to the roots raised bed gardening kit with soil, seeds and plant food, at target'),\n",
       " (12.702252864837646,\n",
       "  'brand: back to the roots | retailer: target | category: packaged meals & sides | parent category: pantry | offer: back to the roots organic kits and planters, at target'),\n",
       " (12.657567977905273,\n",
       "  \"brand: loreal paris cosmetics | retailer: target | category: makeup | parent category: beauty | offer: l'oreal paris true match foundation at target\"),\n",
       " (12.657567977905273,\n",
       "  \"brand: loreal paris cosmetics | retailer: target | category: makeup | parent category: beauty | offer: l'oréal paris true match foundation at target\"),\n",
       " (12.459017992019653,\n",
       "  'brand: dove | retailer: target | category: hair care | parent category: health & wellness | offer: dove hand wash, select varieties at target'),\n",
       " (14.451645851135254,\n",
       "  'brand: target | retailer:  | category: deodorant & antiperspirant | parent category: health & wellness | offer: '),\n",
       " (14.116416931152344,\n",
       "  'brand: target | retailer:  | category: wine | parent category: alcohol | offer: ')]"
      ]
     },
     "execution_count": 70,
     "metadata": {},
     "output_type": "execute_result"
    }
   ],
   "source": [
    "my_search('target')"
   ]
  },
  {
   "cell_type": "markdown",
   "id": "727115cd",
   "metadata": {},
   "source": [
    "Example addressing \"Typo Problem\": the algorithm can now identify typographical errors made by users and return the relevant results"
   ]
  },
  {
   "cell_type": "code",
   "execution_count": 71,
   "id": "dd0fcb57",
   "metadata": {},
   "outputs": [
    {
     "data": {
      "text/plain": [
       "[(8.256167650222778,\n",
       "  'brand: back to the roots | retailer: target | category: packaged meals & sides | parent category: pantry | offer: back to the roots raised bed gardening kit with soil, seeds and plant food, at target'),\n",
       " (7.7022528648376465,\n",
       "  'brand: back to the roots | retailer: target | category: packaged meals & sides | parent category: pantry | offer: back to the roots organic kits and planters, at target'),\n",
       " (7.657567977905273,\n",
       "  \"brand: loreal paris cosmetics | retailer: target | category: makeup | parent category: beauty | offer: l'oreal paris true match foundation at target\"),\n",
       " (7.657567977905273,\n",
       "  \"brand: loreal paris cosmetics | retailer: target | category: makeup | parent category: beauty | offer: l'oréal paris true match foundation at target\"),\n",
       " (7.459017992019653,\n",
       "  'brand: dove | retailer: target | category: hair care | parent category: health & wellness | offer: dove hand wash, select varieties at target'),\n",
       " (9.451645851135254,\n",
       "  'brand: target | retailer:  | category: deodorant & antiperspirant | parent category: health & wellness | offer: '),\n",
       " (9.116416931152344,\n",
       "  'brand: target | retailer:  | category: wine | parent category: alcohol | offer: '),\n",
       " (8.314271767934164,\n",
       "  'brand: tarot | retailer:  | category: wine | parent category: alcohol | offer: ')]"
      ]
     },
     "execution_count": 71,
     "metadata": {},
     "output_type": "execute_result"
    }
   ],
   "source": [
    "my_search('targt')"
   ]
  },
  {
   "cell_type": "markdown",
   "id": "ab4bcb7c",
   "metadata": {},
   "source": [
    "Example for typing category"
   ]
  },
  {
   "cell_type": "code",
   "execution_count": 72,
   "id": "8b4cc909",
   "metadata": {},
   "outputs": [
    {
     "data": {
      "text/plain": [
       "[(10.72649073600769,\n",
       "  'brand: annies homegrown grocery | retailer:  | category: soup & broth | parent category: pantry | offer: any general mills™ products, buy 2\\ngood rewards members only'),\n",
       " (10.667452931404114,\n",
       "  'brand: annies homegrown grocery | retailer:  | category: soup & broth | parent category: pantry | offer: general mills™ products, select brands, spend $7 at convenience stores'),\n",
       " (10.345320641994476,\n",
       "  'brand: annies homegrown grocery | retailer:  | category: soup & broth | parent category: pantry | offer: general mills™ products, select varieties, spend $12'),\n",
       " (10.079375550150871,\n",
       "  'brand: annies homegrown grocery | retailer:  | category: cooking & baking | parent category: pantry | offer: general mills™ products, select varieties, spend $12'),\n",
       " (-7.405521392822266,\n",
       "  'brand: gatorade | retailer: dillons grocery | category: sports drinks | parent category: sports drinks & enhanced waters | offer: gatorade® fast twitch®, 12-ounce single serve, at kroger'),\n",
       " (11.197189927101135,\n",
       "  'brand: annies homegrown grocery other | retailer:  | category: condiments | parent category: pantry | offer: '),\n",
       " (11.121859073638916,\n",
       "  'brand: kraft | retailer:  | category: condiments | parent category: pantry | offer: '),\n",
       " (11.010684370994568,\n",
       "  'brand: kroger | retailer:  | category: condiments | parent category: pantry | offer: '),\n",
       " (10.689132690429688,\n",
       "  'brand: the good stuff | retailer:  | category: cooking & baking | parent category: pantry | offer: ')]"
      ]
     },
     "execution_count": 72,
     "metadata": {},
     "output_type": "execute_result"
    }
   ],
   "source": [
    "my_search('pantry')"
   ]
  },
  {
   "cell_type": "markdown",
   "id": "ad3aeccc",
   "metadata": {},
   "source": [
    "Example for typing brand"
   ]
  },
  {
   "cell_type": "code",
   "execution_count": 73,
   "id": "b2773286",
   "metadata": {},
   "outputs": [
    {
     "data": {
      "text/plain": [
       "[(15.790562629699707,\n",
       "  'brand: subway | retailer: subway | category: cooking & baking | parent category: pantry | offer: spend $25 at subway'),\n",
       " (15.787304878234863,\n",
       "  'brand: subway | retailer: subway | category: cooking & baking | parent category: pantry | offer: spend $35 at subway'),\n",
       " (15.780460357666016,\n",
       "  'brand: subway | retailer: subway | category: cooking & baking | parent category: pantry | offer: spend $15 at subway'),\n",
       " (15.772863388061523,\n",
       "  'brand: subway | retailer: subway | category: cooking & baking | parent category: pantry | offer: spend $10 at subway'),\n",
       " (-0.8557090759277344,\n",
       "  'brand: caseys general store | retailer: caseys general store | category: frozen pizza & pizza snacks | parent category: frozen | offer: spend $5 on brisket mac & cheese sandwich or other single-serve prepared food item'),\n",
       " (-0.28975772857666016,\n",
       "  'brand: 7th avenue pizza | retailer:  | category: frozen pizza & pizza snacks | parent category: frozen | offer: ')]"
      ]
     },
     "execution_count": 73,
     "metadata": {},
     "output_type": "execute_result"
    }
   ],
   "source": [
    "my_search('subway')"
   ]
  }
 ],
 "metadata": {
  "kernelspec": {
   "display_name": "Python 3 (ipykernel)",
   "language": "python",
   "name": "python3"
  },
  "language_info": {
   "codemirror_mode": {
    "name": "ipython",
    "version": 3
   },
   "file_extension": ".py",
   "mimetype": "text/x-python",
   "name": "python",
   "nbconvert_exporter": "python",
   "pygments_lexer": "ipython3",
   "version": "3.9.12"
  }
 },
 "nbformat": 4,
 "nbformat_minor": 5
}
